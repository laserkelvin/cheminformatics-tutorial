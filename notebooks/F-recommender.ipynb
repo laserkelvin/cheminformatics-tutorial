{
 "cells": [
  {
   "cell_type": "code",
   "execution_count": null,
   "metadata": {},
   "outputs": [],
   "source": [
    "## %matplotlib inline\n",
    "\n",
    "import numba\n",
    "import numpy as np\n",
    "import pandas as pd\n",
    "import h5py\n",
    "from gensim.models import word2vec\n",
    "from rdkit import Chem\n",
    "from mol2vec import features\n",
    "from concurrent.futures import ThreadPoolExecutor\n",
    "from matplotlib import pyplot as plt\n",
    "from joblib import dump, load"
   ]
  },
  {
   "cell_type": "markdown",
   "metadata": {},
   "source": [
    "# Building a Recommender\n",
    "\n",
    "This notebook is the \"final\" step: using the embeddings, and building a machine learning pipeline that will recommend new molecules based on a set of molecules with known abundances. A large amount of the computation in this notebook is fairly intensive: starting with converting our 1.5 million molecules into embeddings, to training a model, and finally recommending molecules from a subset of the 1.5 million.\n",
    "\n",
    "So to break down the steps:\n",
    "\n",
    "1. Calculate `mol2vec` embeddings for our entire dataset of SMILES\n",
    "2. Reduce the dimensionality of the embeddings, based on the full dataset\n",
    "3. Pre-cluster similar molecules together with $K$-means clustering\n",
    "4. Calculate column densities for new molecules within the TMC-1 clusters"
   ]
  },
  {
   "cell_type": "code",
   "execution_count": 2,
   "metadata": {},
   "outputs": [],
   "source": [
    "# load the pretrained mol2vec model\n",
    "m2v_model = word2vec.Word2Vec.load(\"mol2vec_model.pkl\")"
   ]
  },
  {
   "cell_type": "code",
   "execution_count": 3,
   "metadata": {},
   "outputs": [],
   "source": [
    "@numba.jit(fastmath=True)\n",
    "def cosine_similarity(A, B):\n",
    "    return np.dot(A, B) / (np.linalg.norm(A) * np.linalg.norm(B))\n",
    "\n",
    "\n",
    "@numba.jit(fastmath=True)\n",
    "def pairwise_similarity(vectors):\n",
    "    n = len(vectors)\n",
    "    matrix = np.zeros((n, n), dtype=np.float32)\n",
    "    for i in range(n):\n",
    "        for j in range(n):\n",
    "            matrix[i,j] = cosine_similarity(vectors[i], vectors[j])\n",
    "    return matrix\n",
    "\n",
    "\n",
    "def smi_to_vector(smi: str, model, radius=1):\n",
    "    mol = Chem.MolFromSmiles(smi, sanitize=False)\n",
    "    mol.UpdatePropertyCache(strict=False)\n",
    "    Chem.GetSymmSSSR(mol)\n",
    "    # generate a sentence from rdkit molecule\n",
    "    sentence = features.mol2alt_sentence(mol, radius)\n",
    "    # generate vector embedding from sentence and model\n",
    "    vector = features.sentences2vec([sentence], model)\n",
    "    return vector\n",
    "\n",
    "\n",
    "def parallel_smi_vectorization(all_smiles, model, h5_ref, workers=4, vec_length=300):\n",
    "    \"\"\"\n",
    "    This uses threading to perform the embedding and save it to the HDF5 dataset.\n",
    "    Unfortunately, not appreciably faster :P\n",
    "    \"\"\"\n",
    "    dataset = h5_ref.require_dataset(\"vectors\", (len(all_smiles), vec_length), dtype=np.float32, chunks=(10000, 300))\n",
    "    with ThreadPoolExecutor(workers) as pool:\n",
    "        for index, result in enumerate(pool.map(\n",
    "            smi_to_vector, all_smiles, (model for _ in range(len(all_smiles)))\n",
    "        )):\n",
    "            dataset[i,:] = result\n",
    "\n",
    "            \n",
    "def serial_smi_vectorization(all_smiles, model, h5_ref, vec_length=300):\n",
    "    vectors = h5_ref.require_dataset(\"vectors\", (len(all_smiles), vec_length), dtype=np.float32, chunks=(10000, vec_length))\n",
    "    dt = h5py.string_dtype()\n",
    "    smiles = h5_ref.create_dataset(\"smiles\", (len(all_smiles),), dtype=dt)\n",
    "    for index, result in enumerate(map(smi_to_vector, all_smiles, (model for _ in range(len(all_smiles))))):\n",
    "        vectors[index,:] = result\n",
    "        smiles[index] = all_smiles[index]"
   ]
  },
  {
   "cell_type": "code",
   "execution_count": 714,
   "metadata": {},
   "outputs": [],
   "source": [
    "# load the TMC-1 data\n",
    "df = pd.read_csv(\"../data/jacqueline_tmc1_more_combined.csv\")\n",
    "# remove the upper/lower limit strings\n",
    "df[\"Column Density\"] = df[\"Column Density \"].str.replace(r\">|<\", \"\", regex=True).astype(float)"
   ]
  },
  {
   "cell_type": "code",
   "execution_count": 711,
   "metadata": {},
   "outputs": [],
   "source": [
    "new_smi = list()\n",
    "for smi in df[\"Notation\"].to_list():\n",
    "    mol = Chem.MolFromSmiles(smi, sanitize=False)\n",
    "    new_smi.append(Chem.MolToSmiles(mol, canonical=True))"
   ]
  },
  {
   "cell_type": "code",
   "execution_count": 715,
   "metadata": {},
   "outputs": [],
   "source": [
    "df[\"Sanitized\"] = new_smi\n",
    "\n",
    "# legacy code to ignore isotopologues\n",
    "isotope_specs = [\"13\", \"15\", \"34\", \"18\"]\n",
    "ignored = df.loc[~df[\"Notation\"].str.contains(\"|\".join(isotope_specs))].dropna(subset=[\"Column Density\"])\n",
    "\n",
    "# Generate vectors for all of the molecules in TMC\n",
    "tmc_1_vecs = [smi_to_vector(smi, m2v_model)[0] for smi in ignored[\"Notation\"].tolist()]\n",
    "\n",
    "ignored[\"Vecs\"] = tmc_1_vecs\n",
    "\n",
    "# this arranges all the vectors into a 2D array where each row corresponds\n",
    "# to a molecule, and the columns are features\n",
    "tmc_1_vecs = np.vstack(tmc_1_vecs)"
   ]
  },
  {
   "cell_type": "markdown",
   "metadata": {},
   "source": [
    "## Embedding generation for the whole dataset\n",
    "\n",
    "This will run the RDKit to `mol2vec` pipeline on all the SMILES in the dataset. The `RERUN` flag lets you choose to skip this step."
   ]
  },
  {
   "cell_type": "code",
   "execution_count": 6,
   "metadata": {},
   "outputs": [],
   "source": [
    "RERUN = False"
   ]
  },
  {
   "cell_type": "code",
   "execution_count": 7,
   "metadata": {},
   "outputs": [],
   "source": [
    "if RERUN:\n",
    "    with open(\"collected_smiles.smi\") as read_file:\n",
    "        all_smiles = read_file.readlines()\n",
    "\n",
    "    all_smiles = list(map(lambda x: x.strip(), all_smiles))\n",
    "    \n",
    "    h5_file = h5py.File(\"smiles_embeddings_300.h5\", \"a\")\n",
    "    serial_smi_vectorization(all_smiles, model, h5_file, 300)\n",
    "\n",
    "else:\n",
    "    # otherwise, load the precalculated embeddings\n",
    "    h5_file = h5py.File(\"smiles_embeddings_300.h5\", \"a\")"
   ]
  },
  {
   "cell_type": "markdown",
   "metadata": {},
   "source": [
    "Because our dataset is so damn big, we have to do some pretty advanced computation to do our analysis. Here, we're using the `dask` package to do \"lazy\" computation: the point of this is that only a small part of data is held in memory at any given time, and is streamed as we do any sort of computation. The other advantage of using `dask` is that we can also do parallel computation, and with threading we can speed up our calculations."
   ]
  },
  {
   "cell_type": "code",
   "execution_count": 8,
   "metadata": {},
   "outputs": [
    {
     "data": {
      "text/html": [
       "<table style=\"border: 2px solid white;\">\n",
       "<tr>\n",
       "<td style=\"vertical-align: top; border: 0px solid white\">\n",
       "<h3 style=\"text-align: left;\">Client</h3>\n",
       "<ul style=\"text-align: left; list-style: none; margin: 0; padding: 0;\">\n",
       "  <li><b>Scheduler: </b>inproc://172.16.23.145/3880704/1</li>\n",
       "  <li><b>Dashboard: </b><a href='http://172.16.23.145:8787/status' target='_blank'>http://172.16.23.145:8787/status</a></li>\n",
       "</ul>\n",
       "</td>\n",
       "<td style=\"vertical-align: top; border: 0px solid white\">\n",
       "<h3 style=\"text-align: left;\">Cluster</h3>\n",
       "<ul style=\"text-align: left; list-style:none; margin: 0; padding: 0;\">\n",
       "  <li><b>Workers: </b>1</li>\n",
       "  <li><b>Cores: </b>4</li>\n",
       "  <li><b>Memory: </b>2.00 GB</li>\n",
       "</ul>\n",
       "</td>\n",
       "</tr>\n",
       "</table>"
      ],
      "text/plain": [
       "<Client: 'inproc://172.16.23.145/3880704/1' processes=1 threads=4, memory=2.00 GB>"
      ]
     },
     "execution_count": 8,
     "metadata": {},
     "output_type": "execute_result"
    }
   ],
   "source": [
    "from dask import array as da\n",
    "\n",
    "from dask.distributed import Client, progress\n",
    "client = Client(\n",
    "    processes=False,\n",
    "    threads_per_worker=4,\n",
    "    n_workers=1,\n",
    "    memory_limit='2GB')\n",
    "\n",
    "client"
   ]
  },
  {
   "cell_type": "code",
   "execution_count": 9,
   "metadata": {},
   "outputs": [],
   "source": [
    "# Retrieve the vectors with prespecified chunk sizes\n",
    "dask_vectors = da.from_array(h5_file[\"vectors\"], chunks=(10000, 300))\n",
    "smiles = np.asarray(h5_file[\"smiles\"])"
   ]
  },
  {
   "cell_type": "code",
   "execution_count": 10,
   "metadata": {},
   "outputs": [],
   "source": [
    "from dask_ml.decomposition import IncrementalPCA\n",
    "from dask_ml.cluster import KMeans"
   ]
  },
  {
   "cell_type": "markdown",
   "metadata": {},
   "source": [
    "## PCA of the full dataset\n",
    "\n",
    "To get some insight into how efficiently our 300-features are being used, as well as reduce the dimensionality of our problem a little bit to help with the computational cost, we can use PCA. The issue, however, is that people will usually scream if you talk about doing PCA on a 1.5 million samples, 300-length feature dataset because it requires a lot of computational resources. In fact, we won't be able to do this on our laptops directly; instead, we're going to use an [`IncrementalPCA` algorithm](https://scikit-learn.org/stable/auto_examples/decomposition/plot_incremental_pca.html), which iteratively finds the principal components without needing to fit the entire dataset in memory. Functionally, this approximates the exact PCA, however may have slight differences due to \"batching\"; how many samples are used to determine principal components in each iteration."
   ]
  },
  {
   "cell_type": "code",
   "execution_count": 11,
   "metadata": {},
   "outputs": [],
   "source": [
    "pca_model = IncrementalPCA(n_components=None, batch_size=10000)"
   ]
  },
  {
   "cell_type": "code",
   "execution_count": 13,
   "metadata": {},
   "outputs": [
    {
     "name": "stderr",
     "output_type": "stream",
     "text": [
      "/home/kelvin/anaconda3/envs/rdkit/lib/python3.6/site-packages/dask/core.py:121: RuntimeWarning: invalid value encountered in true_divide\n",
      "  return func(*(_execute_task(a, cache) for a in args))\n"
     ]
    }
   ],
   "source": [
    "result = pca_model.fit(dask_vectors)"
   ]
  },
  {
   "cell_type": "code",
   "execution_count": 35,
   "metadata": {},
   "outputs": [
    {
     "data": {
      "image/png": "[encoded data removed]",
      "text/plain": [
       "<Figure size 432x288 with 1 Axes>"
      ]
     },
     "metadata": {
      "needs_background": "light"
     },
     "output_type": "display_data"
    }
   ],
   "source": [
    "fig, ax = plt.subplots()\n",
    "\n",
    "x = np.arange(1, result.explained_variance_ratio_.size + 1)\n",
    "\n",
    "ax.plot(x, np.cumsum(result.explained_variance_ratio_))\n",
    "ax.axhline(1., color=\"k\", ls=\"--\", alpha=0.7)\n",
    "ax.set(xlabel=\"Number of components\", ylabel=\"Cumulative variance\", xlim=[0., 150.], title=\"Combined PCA\")\n",
    "\n",
    "for spine in [\"top\", \"right\"]:\n",
    "    ax.spines[spine].set_visible(False)\n",
    "\n",
    "fig.tight_layout()\n",
    "fig.savefig(\"dataset_pca.png\", dpi=300, transparent=True)"
   ]
  },
  {
   "cell_type": "code",
   "execution_count": 36,
   "metadata": {},
   "outputs": [],
   "source": [
    "# Take the first 100 components\n",
    "n_components = 100\n",
    "pca_vectors = result.transform(dask_vectors)[:,:n_components]"
   ]
  },
  {
   "cell_type": "markdown",
   "metadata": {},
   "source": [
    "## Clustering\n",
    "\n",
    "With the PCA dimensions, we now want to perform clustering: a machine learning technique for associating things that are similar together (i.e. form clusters with data points). We will use our reduced dimensionality embeddings (now 100-elements) and compute how far each data point is from one another, and grouping them based on their distances. The most rudimentary method of doing this is with K-means clustering, and requires a specified number of expected clusters. In other applications, these clusters can have a physically significant or motivated basis: for example, certain molecules can be grouped together because they all contain nitrile groups, or some other feature about them. Since our embedding has mixed character in each dimension, it's hard to really interpret what these clusters actually represent, although we can try and infer their properties. Because this is all unsupervised, we do not need any use intuition to dictate _how these clusters are formed_.\n",
    "\n",
    "The advantage of doing this clustering analysis is so that later on, when we want to recommend molecules we don't have ot run through the whole list: our K-means model will predict which cluster the molecule belongs in, and we only have to compute similarities within its cluster! This is much more computationally efficient, as we don't have to go through the full 1.5 million molecule everytime we want to predict something.\n",
    "\n",
    "That said, training the $K$-means is actually the longest thing in this notebook!"
   ]
  },
  {
   "cell_type": "code",
   "execution_count": 37,
   "metadata": {},
   "outputs": [],
   "source": [
    "kmeans_model = KMeans(n_clusters=10, random_state=42)\n",
    "\n",
    "kmeans_result = kmeans_model.fit(pca_vectors)"
   ]
  },
  {
   "cell_type": "code",
   "execution_count": 38,
   "metadata": {},
   "outputs": [],
   "source": [
    "# Associate ever ymolecule in our database to a cluster\n",
    "cluster_ids = kmeans_result.labels_.compute()"
   ]
  },
  {
   "cell_type": "code",
   "execution_count": 41,
   "metadata": {},
   "outputs": [],
   "source": [
    "try:\n",
    "    del h5_file[\"cluster_ids\"]\n",
    "except:\n",
    "    pass\n",
    "# save the cluster ids to disk\n",
    "h5_file[\"cluster_ids\"] = cluster_ids"
   ]
  },
  {
   "cell_type": "code",
   "execution_count": 42,
   "metadata": {},
   "outputs": [],
   "source": [
    "def dask_distance(A, B):\n",
    "    return da.linalg.norm(A - B, axis=1)"
   ]
  },
  {
   "cell_type": "code",
   "execution_count": 66,
   "metadata": {},
   "outputs": [],
   "source": [
    "tmc1_pca = pca_model.transform(tmc_1_vecs)[:,:n_components]"
   ]
  },
  {
   "cell_type": "code",
   "execution_count": 68,
   "metadata": {},
   "outputs": [],
   "source": [
    "tmc1_clusters = kmeans_result.predict(tmc1_pca).compute()"
   ]
  },
  {
   "cell_type": "markdown",
   "metadata": {},
   "source": [
    "With the exception of c-H2C3O, all the molecules in TMC-1 interestingly fall under cluster 9."
   ]
  },
  {
   "cell_type": "code",
   "execution_count": 69,
   "metadata": {},
   "outputs": [
    {
     "data": {
      "text/plain": [
       "array([6, 6, 6, 6, 6, 6, 6, 6, 6, 6, 6, 6, 6, 6, 6, 6, 6, 6, 6, 6, 6, 6,\n",
       "       6, 6, 6, 6, 6, 6, 6, 6, 6, 8, 6, 6, 6, 6, 6, 6, 6, 6, 6, 6, 6, 6,\n",
       "       6, 6, 6, 6, 6, 6, 6], dtype=int32)"
      ]
     },
     "execution_count": 69,
     "metadata": {},
     "output_type": "execute_result"
    }
   ],
   "source": [
    "tmc1_clusters"
   ]
  },
  {
   "cell_type": "code",
   "execution_count": 70,
   "metadata": {},
   "outputs": [],
   "source": [
    "tmc1_distances = dask_distance(kmeans_result.cluster_centers_[-1], tmc1_pca)"
   ]
  },
  {
   "cell_type": "code",
   "execution_count": 71,
   "metadata": {},
   "outputs": [],
   "source": [
    "ignored[\"distances\"] = tmc1_distances"
   ]
  },
  {
   "cell_type": "markdown",
   "metadata": {},
   "source": [
    "You can open the dataframe, and the `distances` column will show how far (in Euclidean distance) each molecule is from the last cluster centroid. While we don't have a good handle of what the clusters _actually correspond to_, by inspection of the molecules, it seems that this cluster very likely corresponds to small organic molecules."
   ]
  },
  {
   "cell_type": "code",
   "execution_count": 64,
   "metadata": {},
   "outputs": [
    {
     "data": {
      "image/png": "[encoded data removed]",
      "text/plain": [
       "<Figure size 432x288 with 1 Axes>"
      ]
     },
     "metadata": {
      "needs_background": "light"
     },
     "output_type": "display_data"
    }
   ],
   "source": [
    "fig, ax = plt.subplots()\n",
    "\n",
    "ax.hist(cluster_ids, bins=np.arange(10), width=0.5, lw=1.,)\n",
    "\n",
    "\n",
    "for spine in [\"top\", \"right\"]:\n",
    "    ax.spines[spine].set_visible(False)\n",
    "\n",
    "ax.set(xlabel=\"Cluster #\", ylabel=\"Counts\", title=\"K-means clustering\")\n",
    "fig.tight_layout()\n",
    "fig.savefig(\"dataset_kmeans.png\", dpi=300, transparent=True)"
   ]
  },
  {
   "cell_type": "code",
   "execution_count": 65,
   "metadata": {},
   "outputs": [],
   "source": [
    "tmc1_kmeans = kmeans_result.transform(tmc1_pca).compute()"
   ]
  },
  {
   "cell_type": "markdown",
   "metadata": {},
   "source": [
    "## Recommender System\n",
    "\n",
    "We now have all the components to start \"recommending molecules\". Using the observed dataset of TMC-1 molecules, we're going to use a Gaussian process to perform regression, predicting the column density and its corresponding uncertainty.\n",
    "\n",
    "In the following code, we're going to be doing a couple of wizardry things: machine learning models tend to \"overfit\" which is to say "
   ]
  },
  {
   "cell_type": "code",
   "execution_count": 704,
   "metadata": {},
   "outputs": [],
   "source": [
    "from sklearn.gaussian_process import GaussianProcessRegressor\n",
    "from sklearn.gaussian_process import kernels\n",
    "from sklearn.model_selection import KFold"
   ]
  },
  {
   "cell_type": "code",
   "execution_count": 705,
   "metadata": {},
   "outputs": [],
   "source": [
    "# This is K-fold validation; basically splits the data up randomly 10 different\n",
    "# ways, and the point is to find the best, most general model\n",
    "kf = KFold(10, random_state=42, shuffle=True)"
   ]
  },
  {
   "cell_type": "code",
   "execution_count": 536,
   "metadata": {},
   "outputs": [],
   "source": [
    "X = tmc1_pca\n",
    "Y = ignored[\"Column Density\"].to_numpy()"
   ]
  },
  {
   "cell_type": "markdown",
   "metadata": {},
   "source": [
    "The kernel we are going to be using is defined as:\n",
    "\n",
    "$$ k = C \\times \\mathrm{RBF}(l_1) \\times \\sigma_0^2 + \\mathrm{RBF}(l_2) $$\n",
    "\n",
    "See [this link](https://scikit-learn.org/stable/modules/gaussian_process.html#gaussian-process) for definitions of each of the kernels."
   ]
  },
  {
   "cell_type": "code",
   "execution_count": 639,
   "metadata": {},
   "outputs": [],
   "source": [
    "# This is a poorly designed model; I manually fiddled around with the kernel definition and parameters\n",
    "# until I got bored, and that the test sccore was reasonable\n",
    "kernel = kernels.ConstantKernel(5., (1e-3, 1e5)) * kernels.RBF(2., (1e-2, 1e1)) * kernels.DotProduct(0.5, (1e-3, 1e1)) + kernels.RBF(3., (1e-3, 1e2))\n",
    "gp_model = GaussianProcessRegressor(kernel, alpha=1e-3, normalize_y=True, random_state=42)"
   ]
  },
  {
   "cell_type": "code",
   "execution_count": 640,
   "metadata": {},
   "outputs": [],
   "source": [
    "# This loop finds the most general model by selecting the highhest test score\n",
    "best_dict = {\"mean\": 1e4, \"test_score\": 1e4}\n",
    "for index, (train, test) in enumerate(kf.split(X, Y)):\n",
    "    gp_result = gp_model.fit(X[train], Y[train])\n",
    "    test_score = gp_result.score(X[test], Y[test])\n",
    "    train_score = gp_result.score(X[train], Y[train])\n",
    "    ll = gp_result.log_marginal_likelihood()\n",
    "    if index == 0 or test_score >= best_dict[\"test_score\"]:\n",
    "        best_dict[\"model\"] = gp_result\n",
    "        best_dict[\"test_score\"] = test_score\n",
    "        best_dict[\"train_score\"] = train_score\n",
    "        best_dict[\"ll\"] = ll\n",
    "        best_dict[\"mean\"] = np.mean([test_score, train_score])            "
   ]
  },
  {
   "cell_type": "code",
   "execution_count": 641,
   "metadata": {},
   "outputs": [
    {
     "data": {
      "text/plain": [
       "{'mean': 0.5014614473504374,\n",
       " 'test_score': 0.31127827656165796,\n",
       " 'model': GaussianProcessRegressor(alpha=0.001,\n",
       "                          kernel=2.24**2 * RBF(length_scale=2) * DotProduct(sigma_0=0.5) + RBF(length_scale=3),\n",
       "                          normalize_y=True, random_state=42),\n",
       " 'train_score': 0.6916446181392168,\n",
       " 'll': -7144.025143492071}"
      ]
     },
     "execution_count": 641,
     "metadata": {},
     "output_type": "execute_result"
    }
   ],
   "source": [
    "# log likelihood isn't as great as I'd like, but this is a very limited model!\n",
    "best_dict"
   ]
  },
  {
   "cell_type": "code",
   "execution_count": 644,
   "metadata": {},
   "outputs": [],
   "source": [
    "# find the index corresponding to the TMC-1 cluster group\n",
    "tmc1_most_common_cluster = np.bincount(tmc1_clusters).argmax()"
   ]
  },
  {
   "cell_type": "code",
   "execution_count": 645,
   "metadata": {},
   "outputs": [],
   "source": [
    "# Select out other molecules from the database that are also in this cluster\n",
    "cluster_X = pca_vectors[cluster_ids == tmc1_most_common_cluster]"
   ]
  },
  {
   "cell_type": "code",
   "execution_count": 646,
   "metadata": {},
   "outputs": [],
   "source": [
    "# Predict the abundance of molecules in the cluster, and their uncertainties\n",
    "rec_N, rec_std = gp_result.predict(cluster_X, return_std=True)"
   ]
  },
  {
   "cell_type": "code",
   "execution_count": 670,
   "metadata": {},
   "outputs": [],
   "source": [
    "# Return top 100 molecules\n",
    "indices = rec_N.argsort()[::-1][:20]"
   ]
  },
  {
   "cell_type": "code",
   "execution_count": 749,
   "metadata": {},
   "outputs": [],
   "source": [
    "# This first finds the SMILES corresponding to the TMC-1 cluster. We then select\n",
    "# out the top 20 in column density from this cluster\n",
    "proposed_smiles = smiles[cluster_ids == tmc1_most_common_cluster][indices]"
   ]
  },
  {
   "cell_type": "code",
   "execution_count": 756,
   "metadata": {},
   "outputs": [],
   "source": [
    "# This picks out the molecules that are in our TMC-1 dataset to plot up against\n",
    "actual = df.loc[df[\"Notation\"].isin(proposed_smiles)]"
   ]
  },
  {
   "cell_type": "code",
   "execution_count": 746,
   "metadata": {},
   "outputs": [],
   "source": [
    "select_x_grid = x_grid[np.isin(proposed_smiles, actual[\"Sanitized\"].to_numpy())]"
   ]
  },
  {
   "cell_type": "code",
   "execution_count": 757,
   "metadata": {},
   "outputs": [
    {
     "data": {
      "image/png": "[encoded data removed]",
      "text/plain": [
       "<Figure size 576x360 with 1 Axes>"
      ]
     },
     "metadata": {
      "needs_background": "light"
     },
     "output_type": "display_data"
    }
   ],
   "source": [
    "fig, ax = plt.subplots(figsize=(8, 5))\n",
    "\n",
    "x_grid = np.arange(20)\n",
    "\n",
    "ax.bar(\n",
    "    np.arange(20),\n",
    "    rec_N[indices],\n",
    "    yerr=rec_std[indices],\n",
    "    label=\"Predicted\"\n",
    ")\n",
    "\n",
    "select_x_grid = x_grid[np.isin(proposed_smiles, actual[\"Notation\"].to_numpy())]\n",
    "\n",
    "ax.bar(\n",
    "    select_x_grid,\n",
    "    actual[\"Column Density\"],\n",
    "    alpha=0.5,\n",
    "    label=\"Observed\"\n",
    ")\n",
    "\n",
    "ax.set_xticks(x_grid)\n",
    "ax.set_xticklabels(proposed_smiles, rotation=90.)\n",
    "for spine in [\"top\", \"right\"]:\n",
    "    ax.spines[spine].set_visible(False)\n",
    "\n",
    "ax.legend(loc=2)\n",
    "ax.set(xlabel=\"SMILES\", ylabel=\"log column density\", ylim=[10., 16.], title=\"Top 20 column density\")\n",
    "    \n",
    "fig.tight_layout()\n",
    "fig.savefig(\"recommend_top20_N.png\", dpi=300, transparent=True)"
   ]
  },
  {
   "cell_type": "markdown",
   "metadata": {},
   "source": [
    "# Conclusions\n",
    "\n",
    "This is a proof-of-concept to show that we can predict which molecules to look for by focusing on high column density and high uncertainty—the point isn't nececssarily to reproduce the column densities directly, but instead this tells us what we should focus on. An advantage of this framework is being able to update as we go: every new detection or upper limit can be included, and the predictions will hopefully improve as we update them. This is an advantage over chemical models, as adding new molecules does not necessarily improve its accuracy (you will always be missing out on stuff).\n",
    "\n",
    "## Things that can be improved\n",
    "\n",
    "The kernel used for the GP is likely to make a real statistician vomit. Ideally, we want the kernels to be designed with some physical basis, however this requires a better understanding of the `mol2vec` vectors. If we have a good kernel design, it's trivial to set up a grid search cross-validation experiment to tune the kernel hyperparameters, and give us the best statistical baseline possible.\n",
    "\n",
    "Right now, some nonsensical molecules are being predicted despite having no elements in TMC-1: namely the silicon and phosphorus species. It is worth making these molecules uninformative priors with the column density around zero, so that the model doesn't necessarily predict them in high abundance (although also high uncertainty until we actually constrain them).\n",
    "\n",
    "Finally, a GP isn't necessarily the optimal model. We can consider other types of models, however GPs are a good balance between performance, speed, and required dataset size. On the one hand, a deep neural network would be able to make good use of the `mol2vec` feature space, although our dataset is far too small to be able to train a network decently."
   ]
  },
  {
   "cell_type": "code",
   "execution_count": null,
   "metadata": {},
   "outputs": [],
   "source": []
  }
 ],
 "metadata": {
  "kernelspec": {
   "display_name": "Python 3.6.10 64-bit ('rdkit': conda)",
   "language": "python",
   "name": "python361064bitrdkitconda2231f7cd07614fa9b5f8257698e6a5f8"
  },
  "language_info": {
   "codemirror_mode": {
    "name": "ipython",
    "version": 3
   },
   "file_extension": ".py",
   "mimetype": "text/x-python",
   "name": "python",
   "nbconvert_exporter": "python",
   "pygments_lexer": "ipython3",
   "version": "3.6.10"
  },
  "widgets": {
   "application/vnd.jupyter.widget-state+json": {
    "state": {},
    "version_major": 2,
    "version_minor": 0
   }
  }
 },
 "nbformat": 4,
 "nbformat_minor": 4
}
