{
 "cells": [
  {
   "cell_type": "code",
   "execution_count": 80,
   "metadata": {
    "tags": []
   },
   "outputs": [],
   "source": [
    "from pathlib import Path\n",
    "from tempfile import NamedTemporaryFile\n",
    "import os\n",
    "\n",
    "import numba\n",
    "import numpy as np\n",
    "import pandas as pd\n",
    "from matplotlib import pyplot as plt\n",
    "from mol2vec import features\n",
    "from rdkit import Chem\n",
    "from rdkit.Chem.Draw import IPythonConsole\n",
    "from rdkit.Chem import AllChem\n",
    "from gensim.models import word2vec"
   ]
  },
  {
   "cell_type": "code",
   "execution_count": 81,
   "metadata": {},
   "outputs": [],
   "source": [
    "model = word2vec.Word2Vec.load(\"mol2vec_model.pkl\")"
   ]
  },
  {
   "cell_type": "code",
   "execution_count": 82,
   "metadata": {
    "tags": []
   },
   "outputs": [
    {
     "name": "stdout",
     "output_type": "stream",
     "text": [
      "12045\n"
     ]
    }
   ],
   "source": [
    "# This gives the size of our corpus: basically how many different environments\n",
    "# our model is aware of\n",
    "print(len(model.wv.vocab))"
   ]
  },
  {
   "cell_type": "code",
   "execution_count": 83,
   "metadata": {},
   "outputs": [],
   "source": [
    "# Generate some small molecules for comparison and sanity check!\n",
    "benzene = Chem.MolFromSmiles(\"c1ccccc1\")\n",
    "acetaldehyde = Chem.MolFromSmiles(\"CC=O\")\n",
    "benzonitrile = Chem.MolFromSmiles(\"C1=CC=C(C=C1)C#N\")\n",
    "phenol = Chem.MolFromSmiles(\"Oc1ccccc1\")\n",
    "hc5n = Chem.MolFromSmiles(\"C#CC#CC#N\")\n",
    "\n",
    "molecules = [benzene, acetaldehyde, benzonitrile, phenol, hc5n]"
   ]
  },
  {
   "cell_type": "markdown",
   "metadata": {},
   "source": [
    "We now convert the `Mol` objects into \"sentences\" to be processed by our `mol2vec` model."
   ]
  },
  {
   "cell_type": "code",
   "execution_count": 84,
   "metadata": {},
   "outputs": [],
   "source": [
    "# Translate molecules\n",
    "sentences = [features.mol2alt_sentence(mol, 1) for mol in molecules]\n",
    "\n",
    "# Use our trained model to generate vectors for every sentence\n",
    "vectors = features.sentences2vec(sentences, model)"
   ]
  },
  {
   "cell_type": "markdown",
   "metadata": {},
   "source": [
    "So now every molecule is converted into a 300 dimensional vector! To check how similar molecules are, we can compute the cosine similarity, which is given by this formula:\n",
    "\n",
    "$$ \\cos(\\theta) = \\frac{\\bf{A} \\dot \\bf{B}}{\\vert\\vert \\bf{A} \\vert\\vert \\vert\\vert \\bf{B} \\vert\\vert} $$\n",
    "\n",
    "This metric basically measures the angle subtended between two vectors $\\bf{A}, \\bf{B}$. For orthogonal vectors (i.e. completely dissimilar), $\\cos(\\theta)=0$ and two equivalent vectors $\\cos(\\theta)=1$ (two equivalent molecules). The code below implements this measure, as well as a fast(er) implementation for calculating every pair."
   ]
  },
  {
   "cell_type": "code",
   "execution_count": 85,
   "metadata": {},
   "outputs": [],
   "source": [
    "@numba.jit(fastmath=True)\n",
    "def cosine_similarity(A, B):\n",
    "    return np.dot(A, B) / (np.linalg.norm(A) * np.linalg.norm(B))\n",
    "\n",
    "\n",
    "@numba.jit(fastmath=True)\n",
    "def pairwise_similarity(vectors):\n",
    "    n = len(vectors)\n",
    "    matrix = np.zeros((n, n), dtype=np.float32)\n",
    "    for i in range(n):\n",
    "        for j in range(n):\n",
    "            matrix[i,j] = cosine_similarity(vectors[i], vectors[j])\n",
    "    return matrix"
   ]
  },
  {
   "cell_type": "code",
   "execution_count": 86,
   "metadata": {},
   "outputs": [
    {
     "data": {
      "text/plain": [
       "array([[1.        , 0.31063303, 0.91987044, 0.9604492 , 0.18273205],\n",
       "       [0.31063303, 1.        , 0.38677323, 0.36621848, 0.31725866],\n",
       "       [0.91987044, 0.38677323, 1.        , 0.9356987 , 0.42502794],\n",
       "       [0.9604492 , 0.36621848, 0.9356987 , 1.0000001 , 0.20717725],\n",
       "       [0.18273205, 0.31725866, 0.42502794, 0.20717725, 1.        ]],\n",
       "      dtype=float32)"
      ]
     },
     "execution_count": 86,
     "metadata": {},
     "output_type": "execute_result"
    }
   ],
   "source": [
    "pairwise_similarity(vectors)"
   ]
  },
  {
   "cell_type": "markdown",
   "metadata": {},
   "source": [
    "This matrix shows the cosine similarity between every molecule pair: the diagonal entries are all 1, because they're the same molecule (good sanity check), while the off-diagonal elements compare each molecule.\n",
    "\n",
    "In row order, we have: benzene, acetaldehyde, benzonitrile, phenol, HC5N. From chemical intuition, benzene, benzonitrile, and phenol should be very similar with one another because they all contain a benzene ring. Acetaldehyde should be closest to phenol because of oxygen. HC5N should be similar to benzonitrile because of the nitrile group.\n",
    "\n",
    "The first and third statements hold well, and they meet our expectations! The second one is a bit more dicey, as the result suggests that acetaldehyde is closer to benzonitrile than phenol despite what we originally thought. In this case, it's very likely that our `mol2vec` model isn't entirely doing what we're thinking, and we would need to do more tests to understand why this is. The encoding must not be focusing on the oxygen as much: for these comparisons, we would have to either: (a) tune the `mol2vec` model, (b) use a different type of encoding, or (c) use a different measure of similarlity."
   ]
  },
  {
   "cell_type": "markdown",
   "metadata": {},
   "source": [
    "## Comparison with TMC-1 molecules\n",
    "\n",
    "In this section we take a look at seeing if the `mol2vec` model is behaving as we think it should using molecules known in TMC-1. We'll take methyl cyanide (CH$_3$CN) and use it as a basis for comparison with a few select species to highlight it."
   ]
  },
  {
   "cell_type": "code",
   "execution_count": 99,
   "metadata": {},
   "outputs": [],
   "source": [
    "def smi_to_vector(smi: str, model):\n",
    "    try:\n",
    "        mol = Chem.MolFromSmiles(smi)\n",
    "    except RuntimeError:\n",
    "        mol = Chem.MolFromSmiles(smi, sanitize=False)\n",
    "        mol.UpdatePropertyCache(strict=False)\n",
    "        Chem.GetSymmSSSR(mol)\n",
    "    # generate a sentence from rdkit molecule\n",
    "    sentence = features.mol2alt_sentence(mol, radius=1)\n",
    "    # generate vector embedding from sentence and model\n",
    "    vector = features.sentences2vec([sentence], model)\n",
    "    return vector"
   ]
  },
  {
   "cell_type": "markdown",
   "metadata": {},
   "source": [
    "Read in the TMC-1 molecules list, and for now well ignore isotopologues."
   ]
  },
  {
   "cell_type": "code",
   "execution_count": 100,
   "metadata": {},
   "outputs": [],
   "source": [
    "df = pd.read_csv(\"../data/jacqueline_tmc1_combined.csv\")"
   ]
  },
  {
   "cell_type": "code",
   "execution_count": 101,
   "metadata": {},
   "outputs": [],
   "source": [
    "isotope_specs = [\"13\", \"15\", \"34\", \"18\"]"
   ]
  },
  {
   "cell_type": "code",
   "execution_count": 102,
   "metadata": {},
   "outputs": [],
   "source": [
    "ignored = df.loc[~df[\"Notation\"].str.contains(\"|\".join(isotope_specs))]"
   ]
  },
  {
   "cell_type": "code",
   "execution_count": 106,
   "metadata": {},
   "outputs": [],
   "source": [
    "# Generate vectors for all of the molecules in TMC\n",
    "tmc_1_vecs = [smi_to_vector(smi, model)[0] for smi in ignored[\"Notation\"].tolist()]"
   ]
  },
  {
   "cell_type": "code",
   "execution_count": 107,
   "metadata": {},
   "outputs": [
    {
     "name": "stderr",
     "output_type": "stream",
     "text": [
      "/home/kelvin/anaconda3/envs/rdkit/lib/python3.6/site-packages/ipykernel_launcher.py:1: SettingWithCopyWarning: \n",
      "A value is trying to be set on a copy of a slice from a DataFrame.\n",
      "Try using .loc[row_indexer,col_indexer] = value instead\n",
      "\n",
      "See the caveats in the documentation: https://pandas.pydata.org/pandas-docs/stable/user_guide/indexing.html#returning-a-view-versus-a-copy\n",
      "  \"\"\"Entry point for launching an IPython kernel.\n"
     ]
    }
   ],
   "source": [
    "ignored[\"Vecs\"] = tmc_1_vecs"
   ]
  },
  {
   "cell_type": "code",
   "execution_count": 108,
   "metadata": {},
   "outputs": [
    {
     "data": {
      "text/html": [
       "<div>\n",
       "<style scoped>\n",
       "    .dataframe tbody tr th:only-of-type {\n",
       "        vertical-align: middle;\n",
       "    }\n",
       "\n",
       "    .dataframe tbody tr th {\n",
       "        vertical-align: top;\n",
       "    }\n",
       "\n",
       "    .dataframe thead th {\n",
       "        text-align: right;\n",
       "    }\n",
       "</style>\n",
       "<table border=\"1\" class=\"dataframe\">\n",
       "  <thead>\n",
       "    <tr style=\"text-align: right;\">\n",
       "      <th></th>\n",
       "      <th>Molecule</th>\n",
       "      <th>Column Density</th>\n",
       "      <th>Freq (Ghz)</th>\n",
       "      <th>Paper</th>\n",
       "      <th>Notes</th>\n",
       "      <th>Notation</th>\n",
       "      <th>Column Density</th>\n",
       "      <th>Vecs</th>\n",
       "    </tr>\n",
       "  </thead>\n",
       "  <tbody>\n",
       "    <tr>\n",
       "      <th>0</th>\n",
       "      <td>NO</td>\n",
       "      <td>2.7 +/- 0.5 10^14 cm^-2</td>\n",
       "      <td>150.546464</td>\n",
       "      <td>Gerin et al. 1993</td>\n",
       "      <td>NaN</td>\n",
       "      <td>[N]=O</td>\n",
       "      <td>NaN</td>\n",
       "      <td>[0.12959588, -0.24102354, 0.054929856, 0.25464...</td>\n",
       "    </tr>\n",
       "    <tr>\n",
       "      <th>1</th>\n",
       "      <td>CO</td>\n",
       "      <td>7.8x10^3 (Rel. HCO+)</td>\n",
       "      <td>115.271203</td>\n",
       "      <td>Pratap et al. 1997</td>\n",
       "      <td>Rel. HCO+</td>\n",
       "      <td>[C-]#[O+]</td>\n",
       "      <td>NaN</td>\n",
       "      <td>[0.3287, 0.6647508, -0.23078772, 0.03354237, 0...</td>\n",
       "    </tr>\n",
       "    <tr>\n",
       "      <th>2</th>\n",
       "      <td>CS</td>\n",
       "      <td>0.32 (Rel. HCO+)</td>\n",
       "      <td>48.990968</td>\n",
       "      <td>Pratap et al. 1997</td>\n",
       "      <td>NaN</td>\n",
       "      <td>[C-]#[S+]</td>\n",
       "      <td>NaN</td>\n",
       "      <td>[0.35599247, 0.5132961, -0.23011641, -0.006341...</td>\n",
       "    </tr>\n",
       "    <tr>\n",
       "      <th>3</th>\n",
       "      <td>HCO+</td>\n",
       "      <td>NaN</td>\n",
       "      <td>89.188523</td>\n",
       "      <td>Pratap et al. 1997</td>\n",
       "      <td>NaN</td>\n",
       "      <td>C#[O+]</td>\n",
       "      <td>NaN</td>\n",
       "      <td>[0.15751001, 0.68994737, -0.085129306, -0.3001...</td>\n",
       "    </tr>\n",
       "    <tr>\n",
       "      <th>4</th>\n",
       "      <td>N2H+</td>\n",
       "      <td>0.013 (Rel. HCO+)</td>\n",
       "      <td>93.17383</td>\n",
       "      <td>Pratap et al. 1997</td>\n",
       "      <td>NaN</td>\n",
       "      <td>[NH+]#N</td>\n",
       "      <td>NaN</td>\n",
       "      <td>[-0.17480186, 0.21658295, 0.04294046, 0.033335...</td>\n",
       "    </tr>\n",
       "  </tbody>\n",
       "</table>\n",
       "</div>"
      ],
      "text/plain": [
       "  Molecule          Column Density   Freq (Ghz)               Paper  \\\n",
       "0       NO  2.7 +/- 0.5 10^14 cm^-2  150.546464  Gerin et al. 1993    \n",
       "1       CO     7.8x10^3 (Rel. HCO+)  115.271203  Pratap et al. 1997   \n",
       "2       CS         0.32 (Rel. HCO+)   48.990968  Pratap et al. 1997   \n",
       "3     HCO+                      NaN   89.188523  Pratap et al. 1997   \n",
       "4     N2H+        0.013 (Rel. HCO+)    93.17383  Pratap et al. 1997   \n",
       "\n",
       "       Notes   Notation Column Density  \\\n",
       "0        NaN      [N]=O            NaN   \n",
       "1  Rel. HCO+  [C-]#[O+]            NaN   \n",
       "2        NaN  [C-]#[S+]            NaN   \n",
       "3        NaN     C#[O+]            NaN   \n",
       "4        NaN    [NH+]#N            NaN   \n",
       "\n",
       "                                                Vecs  \n",
       "0  [0.12959588, -0.24102354, 0.054929856, 0.25464...  \n",
       "1  [0.3287, 0.6647508, -0.23078772, 0.03354237, 0...  \n",
       "2  [0.35599247, 0.5132961, -0.23011641, -0.006341...  \n",
       "3  [0.15751001, 0.68994737, -0.085129306, -0.3001...  \n",
       "4  [-0.17480186, 0.21658295, 0.04294046, 0.033335...  "
      ]
     },
     "execution_count": 108,
     "metadata": {},
     "output_type": "execute_result"
    }
   ],
   "source": [
    "# Check out what the dataframe looks like\n",
    "ignored.head()"
   ]
  },
  {
   "cell_type": "markdown",
   "metadata": {},
   "source": [
    "Now we want a dictionary so that we can map the name of the molecule (which is more convenient) to its vector."
   ]
  },
  {
   "cell_type": "code",
   "execution_count": 109,
   "metadata": {},
   "outputs": [],
   "source": [
    "molecule_dict = {mol: vector for mol, vector in zip(ignored[\"Molecule\"], ignored[\"Vecs\"])}"
   ]
  },
  {
   "cell_type": "code",
   "execution_count": 110,
   "metadata": {},
   "outputs": [],
   "source": [
    "selected = [\"CH3CN\", \"CH3C3N\", \"CH3CHO\", \"HCCCHO\", \"CH2CHCN\", \"OCS\", \"c-C3H2\"]"
   ]
  },
  {
   "cell_type": "code",
   "execution_count": 111,
   "metadata": {},
   "outputs": [],
   "source": [
    "# compute cosine similarity with methyl cyanide\n",
    "similarities = [cosine_similarity(molecule_dict[\"CH3CN\"], molecule_dict[chosen]) for chosen in selected]"
   ]
  },
  {
   "cell_type": "code",
   "execution_count": 112,
   "metadata": {},
   "outputs": [
    {
     "data": {
      "text/plain": [
       "[0.9999998807907104,\n",
       " 0.9226245880126953,\n",
       " 0.4506983458995819,\n",
       " 0.6650229692459106,\n",
       " 0.7359962463378906,\n",
       " 0.5310765504837036,\n",
       " 0.0419175922870636]"
      ]
     },
     "execution_count": 112,
     "metadata": {},
     "output_type": "execute_result"
    }
   ],
   "source": [
    "# similarity of methyl cyanide with itself should be basically one for sanity check\n",
    "similarities"
   ]
  },
  {
   "cell_type": "code",
   "execution_count": 113,
   "metadata": {},
   "outputs": [
    {
     "data": {
      "image/png": "[encoded data removed]",
      "text/plain": [
       "<Figure size 432x288 with 1 Axes>"
      ]
     },
     "metadata": {
      "needs_background": "light"
     },
     "output_type": "display_data"
    }
   ],
   "source": [
    "fig, ax = plt.subplots()\n",
    "\n",
    "ax.bar(x=np.arange(len(similarities)), height=similarities)\n",
    "\n",
    "ax.set(xlabel=\"Molecule\", ylabel=\"Cosine similarity\", xticklabels=selected, xticks=range(8), title=\"Similarities to CH3CN\")\n",
    "for spine in [\"top\", \"right\"]:\n",
    "    ax.spines[spine].set_visible(False)\n",
    "\n",
    "fig.tight_layout()\n",
    "fig.savefig(\"ch3cn_similarity.png\", dpi=300)"
   ]
  },
  {
   "cell_type": "code",
   "execution_count": 9,
   "metadata": {},
   "outputs": [],
   "source": [
    "with open(\"collected_smiles.smi\") as read_file:\n",
    "    smi_list = read_file.readlines()"
   ]
  },
  {
   "cell_type": "code",
   "execution_count": 16,
   "metadata": {},
   "outputs": [],
   "source": [
    "smi_list = [smi.strip() for smi in smi_list]"
   ]
  },
  {
   "cell_type": "markdown",
   "metadata": {},
   "source": [
    "_The step below takes a long time!_ Should parallelize it."
   ]
  },
  {
   "cell_type": "code",
   "execution_count": null,
   "metadata": {},
   "outputs": [],
   "source": []
  }
 ],
 "metadata": {
  "kernelspec": {
   "display_name": "Python 3.6.10 64-bit ('rdkit': conda)",
   "language": "python",
   "name": "python361064bitrdkitconda2231f7cd07614fa9b5f8257698e6a5f8"
  },
  "language_info": {
   "codemirror_mode": {
    "name": "ipython",
    "version": 3
   },
   "file_extension": ".py",
   "mimetype": "text/x-python",
   "name": "python",
   "nbconvert_exporter": "python",
   "pygments_lexer": "ipython3",
   "version": "3.6.10"
  },
  "widgets": {
   "application/vnd.jupyter.widget-state+json": {
    "state": {},
    "version_major": 2,
    "version_minor": 0
   }
  }
 },
 "nbformat": 4,
 "nbformat_minor": 4
}
